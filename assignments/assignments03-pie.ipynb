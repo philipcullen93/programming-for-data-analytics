{
 "cells": [
  {
   "cell_type": "markdown",
   "id": "1e9f4342",
   "metadata": {},
   "source": [
    "Title: Email Domain Pie Chart\n",
    "\n",
    "Author: Philip Cullen\n",
    "\n",
    "Task: Create a notebook that should have a pie chart of peoples email domains in the csv file."
   ]
  },
  {
   "cell_type": "markdown",
   "id": "fd4d3cee",
   "metadata": {},
   "source": [
    "Note: \n",
    "- In this notebook, I include brief explanations of the code using comments marked with # inside the code boxes.\n",
    "- I have also split the code into separate section to breakdown exactly what I am doing and how I approach the assignment.\n"
   ]
  },
  {
   "cell_type": "markdown",
   "id": "246c62c5",
   "metadata": {},
   "source": [
    "Approach: \n",
    "- First load the data from the url https://drive.google.com/uc?id=1AWPf-pJodJKeHsARQK_RHiNsE8fjPCVK&export=download as a .csv file.\n",
    "- Read the .csv file onto a pandas DataFrame.\n",
    "- Extract the email domains.\n",
    "- Count the number of domains used by each of the 1000 people.\n",
    "- Make the pie chart.\n",
    " "
   ]
  },
  {
   "cell_type": "markdown",
   "id": "4f293b0a",
   "metadata": {},
   "source": [
    "1. Set up step\n",
    "This section of code just covers library importing, loading the dataset, and reading it into a Dataframe"
   ]
  },
  {
   "cell_type": "code",
   "execution_count": 17,
   "id": "e6556258",
   "metadata": {},
   "outputs": [
    {
     "data": {
      "text/html": [
       "<div>\n",
       "<style scoped>\n",
       "    .dataframe tbody tr th:only-of-type {\n",
       "        vertical-align: middle;\n",
       "    }\n",
       "\n",
       "    .dataframe tbody tr th {\n",
       "        vertical-align: top;\n",
       "    }\n",
       "\n",
       "    .dataframe thead th {\n",
       "        text-align: right;\n",
       "    }\n",
       "</style>\n",
       "<table border=\"1\" class=\"dataframe\">\n",
       "  <thead>\n",
       "    <tr style=\"text-align: right;\">\n",
       "      <th></th>\n",
       "      <th>Index</th>\n",
       "      <th>User Id</th>\n",
       "      <th>First Name</th>\n",
       "      <th>Last Name</th>\n",
       "      <th>Sex</th>\n",
       "      <th>Email</th>\n",
       "      <th>Phone</th>\n",
       "      <th>Date of birth</th>\n",
       "      <th>Job Title</th>\n",
       "    </tr>\n",
       "  </thead>\n",
       "  <tbody>\n",
       "    <tr>\n",
       "      <th>0</th>\n",
       "      <td>1</td>\n",
       "      <td>8717bbf45cCDbEe</td>\n",
       "      <td>Shelia</td>\n",
       "      <td>Mahoney</td>\n",
       "      <td>Male</td>\n",
       "      <td>pwarner@example.org</td>\n",
       "      <td>857.139.8239</td>\n",
       "      <td>2014-01-27</td>\n",
       "      <td>Probation officer</td>\n",
       "    </tr>\n",
       "    <tr>\n",
       "      <th>1</th>\n",
       "      <td>2</td>\n",
       "      <td>3d5AD30A4cD38ed</td>\n",
       "      <td>Jo</td>\n",
       "      <td>Rivers</td>\n",
       "      <td>Female</td>\n",
       "      <td>fergusonkatherine@example.net</td>\n",
       "      <td>+1-950-759-8687</td>\n",
       "      <td>1931-07-26</td>\n",
       "      <td>Dancer</td>\n",
       "    </tr>\n",
       "    <tr>\n",
       "      <th>2</th>\n",
       "      <td>3</td>\n",
       "      <td>810Ce0F276Badec</td>\n",
       "      <td>Sheryl</td>\n",
       "      <td>Lowery</td>\n",
       "      <td>Female</td>\n",
       "      <td>fhoward@example.org</td>\n",
       "      <td>(599)782-0605</td>\n",
       "      <td>2013-11-25</td>\n",
       "      <td>Copy</td>\n",
       "    </tr>\n",
       "    <tr>\n",
       "      <th>3</th>\n",
       "      <td>4</td>\n",
       "      <td>BF2a889C00f0cE1</td>\n",
       "      <td>Whitney</td>\n",
       "      <td>Hooper</td>\n",
       "      <td>Male</td>\n",
       "      <td>zjohnston@example.com</td>\n",
       "      <td>+1-939-130-6258</td>\n",
       "      <td>2012-11-17</td>\n",
       "      <td>Counselling psychologist</td>\n",
       "    </tr>\n",
       "    <tr>\n",
       "      <th>4</th>\n",
       "      <td>5</td>\n",
       "      <td>9afFEafAe1CBBB9</td>\n",
       "      <td>Lindsey</td>\n",
       "      <td>Rice</td>\n",
       "      <td>Female</td>\n",
       "      <td>elin@example.net</td>\n",
       "      <td>(390)417-1635x3010</td>\n",
       "      <td>1923-04-15</td>\n",
       "      <td>Biomedical engineer</td>\n",
       "    </tr>\n",
       "  </tbody>\n",
       "</table>\n",
       "</div>"
      ],
      "text/plain": [
       "   Index          User Id First Name Last Name     Sex  \\\n",
       "0      1  8717bbf45cCDbEe     Shelia   Mahoney    Male   \n",
       "1      2  3d5AD30A4cD38ed         Jo    Rivers  Female   \n",
       "2      3  810Ce0F276Badec     Sheryl    Lowery  Female   \n",
       "3      4  BF2a889C00f0cE1    Whitney    Hooper    Male   \n",
       "4      5  9afFEafAe1CBBB9    Lindsey      Rice  Female   \n",
       "\n",
       "                           Email               Phone Date of birth  \\\n",
       "0            pwarner@example.org        857.139.8239    2014-01-27   \n",
       "1  fergusonkatherine@example.net     +1-950-759-8687    1931-07-26   \n",
       "2            fhoward@example.org       (599)782-0605    2013-11-25   \n",
       "3          zjohnston@example.com     +1-939-130-6258    2012-11-17   \n",
       "4               elin@example.net  (390)417-1635x3010    1923-04-15   \n",
       "\n",
       "                  Job Title  \n",
       "0         Probation officer  \n",
       "1                    Dancer  \n",
       "2                      Copy  \n",
       "3  Counselling psychologist  \n",
       "4       Biomedical engineer  "
      ]
     },
     "execution_count": 17,
     "metadata": {},
     "output_type": "execute_result"
    }
   ],
   "source": [
    "import pandas as pd\n",
    "import matplotlib.pyplot as plt\n",
    "# imports the required libraries\n",
    "\n",
    "url = \"https://drive.google.com/uc?id=1AWPf-pJodJKeHsARQK_RHiNsE8fjPCVK&export=download\"\n",
    "\n",
    "# Reads the csv file into a pandas DataFrame\n",
    "df = pd.read_csv(url)\n",
    "\n",
    "# This piece of code just displays the first few rows to ensure the data has been loaded correctly\n",
    "df.head()"
   ]
  },
  {
   "cell_type": "markdown",
   "id": "f6e0f858",
   "metadata": {},
   "source": [
    "The above has displayed the first few rows of data.\n",
    "Therefore, it appears the data has been loaded correctly."
   ]
  },
  {
   "cell_type": "markdown",
   "id": "12fdb8e8",
   "metadata": {},
   "source": [
    "2. Extracting the Email Domains\n",
    "\n",
    "From the previous step, we see the email addresses are in a column titled \"Email\"\n",
    "\n",
    "Knowing this it makes it easier to extract specifically the email domains"
   ]
  },
  {
   "cell_type": "code",
   "execution_count": 18,
   "id": "656787af",
   "metadata": {},
   "outputs": [
    {
     "data": {
      "text/plain": [
       "0    example.org\n",
       "1    example.net\n",
       "2    example.org\n",
       "3    example.com\n",
       "4    example.net\n",
       "Name: Domain, dtype: object"
      ]
     },
     "execution_count": 18,
     "metadata": {},
     "output_type": "execute_result"
    }
   ],
   "source": [
    "# This line extracts the domain part of each email address and adds them to a data Frame called \"Domain\".\n",
    "# It does this by splitting the email (string) before and after the @ .\n",
    "# str[1] takes the second part/ the domain of each email address.\n",
    "\n",
    "df[\"Domain\"] = df[\"Email\"].str.split(\"@\").str[1]\n",
    "\n",
    "# This just shows that the email domains were extracted successfully.\n",
    "df[\"Domain\"].head()"
   ]
  },
  {
   "cell_type": "markdown",
   "id": "4a54fd66",
   "metadata": {},
   "source": [
    "Above we can see the domains in the .csv file.\n",
    "However, while we know the domains we don't know how many are used for the 1000 people."
   ]
  },
  {
   "cell_type": "markdown",
   "id": "9450a4ab",
   "metadata": {},
   "source": [
    "3. Counting the Domains\n",
    "\n",
    "This step counts how many people use each of the domains."
   ]
  },
  {
   "cell_type": "code",
   "execution_count": null,
   "id": "2996e416",
   "metadata": {},
   "outputs": [
    {
     "data": {
      "text/plain": [
       "Domain\n",
       "example.org    341\n",
       "example.com    339\n",
       "example.net    320\n",
       "Name: count, dtype: int64"
      ]
     },
     "execution_count": 19,
     "metadata": {},
     "output_type": "execute_result"
    }
   ],
   "source": [
    "domain_counts = df['Domain'].value_counts()\n",
    "\n",
    "domain_counts.head(10)\n",
    "\n",
    "# This code creates a data frame for just the domains, but counts how much of each there is\n",
    "# Having a total count for each is good as we know roughly what our piechart may look like"
   ]
  },
  {
   "cell_type": "markdown",
   "id": "4ab2df63",
   "metadata": {},
   "source": [
    "4. Making the Pie Chart"
   ]
  },
  {
   "cell_type": "markdown",
   "id": "2fe8319e",
   "metadata": {},
   "source": [
    "This final setion has the code used to produce the pie chart."
   ]
  },
  {
   "cell_type": "code",
   "execution_count": null,
   "id": "fa9bdeee",
   "metadata": {},
   "outputs": [
    {
     "data": {
      "image/png": "[encoded data removed]",
      "text/plain": [
       "<Figure size 800x800 with 1 Axes>"
      ]
     },
     "metadata": {},
     "output_type": "display_data"
    }
   ],
   "source": [
    "plt.figure(figsize=(8,8))\n",
    "\n",
    "# autopct shows both count and percentage\n",
    "def autopct_format(values):\n",
    "    def my_format(pct):\n",
    "        total = sum(values)\n",
    "        count = int(round(pct * total / 100.0))\n",
    "        return f'{count}\\n({pct:.1f}%)'\n",
    "    return my_format\n",
    "\n",
    "colours = [\"red\",\"Blue\",\"Green\"]\n",
    "# Assigns the coulorurs for each slice of the pie chart\n",
    "\n",
    "plt.pie(\n",
    "    domain_counts,\n",
    "    labels=domain_counts.index,\n",
    "    autopct=autopct_format(domain_counts),\n",
    "    colors=colours,\n",
    "    wedgeprops={\"edgecolor\":\"black\"}\n",
    ")\n",
    "\n",
    "# labels = domain counts, uses the names from the domain_counts dataframe to label the pie chart\n",
    "# autopct=domain_counts.index dunction customises what is shown on each s;ice based of the information in the domain_counts dataframe\n",
    "\n",
    "plt.title(\"Distribution of All Email Domains\", fontsize=14, fontweight='bold')\n",
    "plt.tight_layout()\n",
    "plt.show()"
   ]
  }
 ],
 "metadata": {
  "kernelspec": {
   "display_name": "Python 3",
   "language": "python",
   "name": "python3"
  },
  "language_info": {
   "codemirror_mode": {
    "name": "ipython",
    "version": 3
   },
   "file_extension": ".py",
   "mimetype": "text/x-python",
   "name": "python",
   "nbconvert_exporter": "python",
   "pygments_lexer": "ipython3",
   "version": "3.12.1"
  }
 },
 "nbformat": 4,
 "nbformat_minor": 5
}
